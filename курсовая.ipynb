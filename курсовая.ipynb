{
  "cells": [
    {
      "cell_type": "markdown",
      "id": "9768ff11",
      "metadata": {
        "id": "9768ff11"
      },
      "source": [
        "# Курсовая работа\n",
        "## Выполнил студент группы БФИ2203 Закаморный Михаил"
      ]
    },
    {
      "cell_type": "markdown",
      "id": "eb00c26d",
      "metadata": {
        "id": "eb00c26d"
      },
      "source": [
        "Написать программу, которая будет считывать данные из CSV файла, содержащего\n",
        "информацию о продажах товаров в магазине. Данные в файле содержатся в следующем\n",
        "формате:\n",
        "\n",
        "| Номер заказа | Дата заказа | Название товара | Категория товара | Количество продаж | Цена\n",
        "за единицу | Общая стоимость |\n",
        "\n",
        "Необходимо:\n",
        "1. Рассчитать общую выручку магазина.\n",
        "2. Найти товар, который был продан наибольшее количество раз.\n",
        "3. Найти товар, который принес наибольшую выручку.\n",
        "4. Составить отчет, содержащий информацию об общей выручке магазина, количестве\n",
        "проданных единиц каждого товар и доле каждого товара в общей выручке.\n",
        "Для решения задач необходимо использовать структуры данных, такие как массивы и\n",
        "хеш-таблицы, а также различные алгоритмы обработки данных, например, сортировку и поиск.\n",
        "Также необходимо учитывать возможные ошибки ввода-вывода и обрабатывать их в\n",
        "соответствии с требованиями."
      ]
    },
    {
      "cell_type": "markdown",
      "id": "f78967f9",
      "metadata": {
        "id": "f78967f9"
      },
      "source": [
        "# Ход работы:"
      ]
    },
    {
      "cell_type": "markdown",
      "id": "17589d6c",
      "metadata": {
        "id": "17589d6c"
      },
      "source": [
        "Создадим класс хэш-таблицы:"
      ]
    },
    {
      "cell_type": "code",
      "execution_count": 2,
      "id": "a847fb64",
      "metadata": {
        "id": "a847fb64"
      },
      "outputs": [],
      "source": [
        "class HashTable:\n",
        "    def __init__(self, size):\n",
        "        self.size = size\n",
        "        self.table = [[] for _ in range(size)]\n",
        "\n",
        "    def hash_function(self, key):\n",
        "        return hash(key) % self.size\n",
        "\n",
        "    def insert(self, key, value):\n",
        "        index = self.hash_function(key)\n",
        "        for pair in self.table[index]:\n",
        "            if pair[0] == key:\n",
        "                pair[1] = value\n",
        "                return\n",
        "        self.table[index].append([key, value])\n",
        "\n",
        "    def get(self, key):\n",
        "        index = self.hash_function(key)\n",
        "        for pair in self.table[index]:\n",
        "            if pair[0] == key:\n",
        "                return pair[1]\n",
        "        return None\n",
        "\n",
        "    def items(self):\n",
        "        for bucket in self.table:\n",
        "            for pair in bucket:\n",
        "                yield pair"
      ]
    },
    {
      "cell_type": "markdown",
      "id": "f540367d",
      "metadata": {
        "id": "f540367d"
      },
      "source": [
        "Создадим функцию сортировки Шелла:"
      ]
    },
    {
      "cell_type": "code",
      "execution_count": 3,
      "id": "91862367",
      "metadata": {
        "id": "91862367"
      },
      "outputs": [],
      "source": [
        "def shell_sort(arr, key):\n",
        "    n = len(arr)\n",
        "    gap = n // 2\n",
        "    while gap > 0:\n",
        "        for i in range(gap, n):\n",
        "            temp = arr[i]\n",
        "            j = i\n",
        "            while j >= gap and key(arr[j - gap]) > key(temp):\n",
        "                arr[j] = arr[j - gap]\n",
        "                j -= gap\n",
        "            arr[j] = temp\n",
        "        gap //= 2"
      ]
    },
    {
      "cell_type": "markdown",
      "id": "7aca602a",
      "metadata": {
        "id": "7aca602a"
      },
      "source": [
        "Создадим функцию для загрузки хэш-таблицы:"
      ]
    },
    {
      "cell_type": "code",
      "execution_count": 4,
      "id": "05aa4314",
      "metadata": {},
      "outputs": [],
      "source": [
        "import csv\n",
        "def parse_csv(file_path, delimiter=';', encoding='utf-8'):\n",
        "    with open(file_path, newline='', encoding=encoding) as csvfile:\n",
        "        reader = csv.DictReader(csvfile, delimiter=delimiter)\n",
        "        data = []\n",
        "        for row in reader:\n",
        "            data.append(row)\n",
        "    return data"
      ]
    },
    {
      "cell_type": "markdown",
      "id": "e4898d78",
      "metadata": {
        "id": "e4898d78"
      },
      "source": [
        "Функция для расчёта:\n",
        "- Общей выручки\n",
        "- Товара с наибольшим кол-вом продаж\n",
        "- Товара с наибольшей выручкой"
      ]
    },
    {
      "cell_type": "code",
      "execution_count": 5,
      "id": "45c0c87f",
      "metadata": {
        "id": "45c0c87f"
      },
      "outputs": [],
      "source": [
        "def calculate_total_revenue(data):\n",
        "    total_revenue = sum(float(row['Total cost']) for row in data)\n",
        "    return total_revenue\n",
        "\n",
        "def find_most_sold_product(data):\n",
        "    product_sales = HashTable(1000)\n",
        "    for row in data:\n",
        "        product = row['Product name']\n",
        "        quantity = int(row['Quantity'])\n",
        "        current_quantity = product_sales.get(product)\n",
        "        if current_quantity is None:\n",
        "            product_sales.insert(product, quantity)\n",
        "        else:\n",
        "            product_sales.insert(product, current_quantity + quantity)\n",
        "    most_sold_product = None\n",
        "    most_sold_quantity = 0\n",
        "    for product, quantity in product_sales.items():\n",
        "        if quantity > most_sold_quantity:\n",
        "            most_sold_product = product\n",
        "            most_sold_quantity = quantity\n",
        "    return most_sold_product, most_sold_quantity\n",
        "\n",
        "def find_highest_revenue_product(data):\n",
        "    product_revenue = HashTable(1000)\n",
        "    for row in data:\n",
        "        product = row['Product name']\n",
        "        revenue = float(row['Total cost'])\n",
        "        current_revenue = product_revenue.get(product)\n",
        "        if current_revenue is None:\n",
        "            product_revenue.insert(product, revenue)\n",
        "        else:\n",
        "            product_revenue.insert(product, current_revenue + revenue)\n",
        "    highest_revenue_product = None\n",
        "    highest_revenue = 0.0\n",
        "    for product, revenue in product_revenue.items():\n",
        "        if revenue > highest_revenue:\n",
        "            highest_revenue_product = product\n",
        "            highest_revenue = revenue\n",
        "    return highest_revenue_product, highest_revenue\n"
      ]
    },
    {
      "cell_type": "markdown",
      "id": "d7177870",
      "metadata": {
        "id": "d7177870"
      },
      "source": [
        "Сделаем функцию для вывода результатов:"
      ]
    },
    {
      "cell_type": "code",
      "execution_count": 6,
      "id": "446c947a",
      "metadata": {
        "colab": {
          "base_uri": "https://localhost:8080/"
        },
        "id": "446c947a",
        "outputId": "5a2f2c56-8529-4db7-b180-22fcaaffcd2c"
      },
      "outputs": [],
      "source": [
        "def generate_report(data):\n",
        "    product_stats = HashTable(1000)\n",
        "    total_revenue = calculate_total_revenue(data)\n",
        "    for row in data:\n",
        "        product = row['Product name']\n",
        "        quantity = int(row['Quantity'])\n",
        "        revenue = float(row['Total cost'])\n",
        "        stats = product_stats.get(product)\n",
        "        if stats is None:\n",
        "            product_stats.insert(product, {'quantity': quantity, 'revenue': revenue})\n",
        "        else:\n",
        "            stats['quantity'] += quantity\n",
        "            stats['revenue'] += revenue\n",
        "            product_stats.insert(product, stats)\n",
        "\n",
        "    report = []\n",
        "    for product, stats in product_stats.items():\n",
        "        percentage = (stats['revenue'] / total_revenue) * 100\n",
        "        report.append({\n",
        "            'Название товара': product,\n",
        "            'Количество продаж': stats['quantity'],\n",
        "            'Общая выручка': stats['revenue'],\n",
        "            'Доля в общей выручке (%)': percentage\n",
        "        })\n",
        "    return report"
      ]
    },
    {
      "cell_type": "markdown",
      "id": "2fd9614d",
      "metadata": {
        "id": "2fd9614d"
      },
      "source": [
        "Выведем данные по таблице:"
      ]
    },
    {
      "cell_type": "code",
      "execution_count": 7,
      "id": "553cd06c",
      "metadata": {},
      "outputs": [
        {
          "name": "stdout",
          "output_type": "stream",
          "text": [
            "\n",
            "Общая выручка магазина: 13197834 руб.\n",
            "Товар, который был продан наибольшее количество раз: MXR Patch Cable (111 шт.)\n",
            "Товар, который принес наибольшую выручку: Fender Stratocaster Standard Made in Mexico (3923600 руб.)\n",
            "\n",
            "Отчет по товарам:\n",
            "————————————————————————————————————————————————————————————————————————————————————————————————————————————————————————————————————————\n",
            "Fender Stratocaster Standard Made in Mexico     Количество продаж:  34     Общая выручка: 3923600 руб.     Доля в общей выручке: 29.7 %\n",
            "————————————————————————————————————————————————————————————————————————————————————————————————————————————————————————————————————————\n",
            "Fender Squier Stratocaster Standard             Количество продаж:  51     Общая выручка: 2850849 руб.     Доля в общей выручке: 21.6 %\n",
            "————————————————————————————————————————————————————————————————————————————————————————————————————————————————————————————————————————\n",
            "Gibson Flying V                                 Количество продаж:   8     Общая выручка: 1690400 руб.     Доля в общей выручке: 12.8 %\n",
            "————————————————————————————————————————————————————————————————————————————————————————————————————————————————————————————————————————\n",
            "Fender Squier Stratocaster Vintage Modified     Количество продаж:  23     Общая выручка: 1436350 руб.     Доля в общей выручке: 10.9 %\n",
            "————————————————————————————————————————————————————————————————————————————————————————————————————————————————————————————————————————\n",
            "Radiotehnika S-20N                              Количество продаж:  30     Общая выручка:  749700 руб.     Доля в общей выручке:  5.7 %\n",
            "————————————————————————————————————————————————————————————————————————————————————————————————————————————————————————————————————————\n",
            "Line6 AMPLIFi                                   Количество продаж:  21     Общая выручка:  606900 руб.     Доля в общей выручке:  4.6 %\n",
            "————————————————————————————————————————————————————————————————————————————————————————————————————————————————————————————————————————\n",
            "Rockdale ST-112                                 Количество продаж:  39     Общая выручка:  467610 руб.     Доля в общей выручке:  3.5 %\n",
            "————————————————————————————————————————————————————————————————————————————————————————————————————————————————————————————————————————\n",
            "Epiphone Les Paul Standard Korea                Количество продаж:   3     Общая выручка:  234030 руб.     Доля в общей выручке:  1.8 %\n",
            "————————————————————————————————————————————————————————————————————————————————————————————————————————————————————————————————————————\n",
            "Axelvox HD242                                   Количество продаж:  45     Общая выручка:  211455 руб.     Доля в общей выручке:  1.6 %\n",
            "————————————————————————————————————————————————————————————————————————————————————————————————————————————————————————————————————————\n",
            "Focusrite Scarlett Solo 3rd                     Количество продаж:  15     Общая выручка:  190500 руб.     Доля в общей выручке:  1.4 %\n",
            "————————————————————————————————————————————————————————————————————————————————————————————————————————————————————————————————————————\n",
            "Bacchus Jazz Bass Global Series                 Количество продаж:   5     Общая выручка:  171500 руб.     Доля в общей выручке:  1.3 %\n",
            "————————————————————————————————————————————————————————————————————————————————————————————————————————————————————————————————————————\n",
            "Dunlop MXR DCIS10R                              Количество продаж:  41     Общая выручка:  151700 руб.     Доля в общей выручке:  1.1 %\n",
            "————————————————————————————————————————————————————————————————————————————————————————————————————————————————————————————————————————\n",
            "Mosky Obsessive                                 Количество продаж:  32     Общая выручка:  112000 руб.     Доля в общей выручке:  0.8 %\n",
            "————————————————————————————————————————————————————————————————————————————————————————————————————————————————————————————————————————\n",
            "Mosky Black Rat                                 Количество продаж:  28     Общая выручка:   89600 руб.     Доля в общей выручке:  0.7 %\n",
            "————————————————————————————————————————————————————————————————————————————————————————————————————————————————————————————————————————\n",
            "MXR Patch Cable                                 Количество продаж: 111     Общая выручка:   77700 руб.     Доля в общей выручке:  0.6 %\n",
            "————————————————————————————————————————————————————————————————————————————————————————————————————————————————————————————————————————\n",
            "Fernandes Limited Edition '82                   Количество продаж:   1     Общая выручка:   65000 руб.     Доля в общей выручке:  0.5 %\n",
            "————————————————————————————————————————————————————————————————————————————————————————————————————————————————————————————————————————\n",
            "Ammoon Nano Metal                               Количество продаж:  19     Общая выручка:   55100 руб.     Доля в общей выручке:  0.4 %\n",
            "————————————————————————————————————————————————————————————————————————————————————————————————————————————————————————————————————————\n",
            "Digital Tuner Korg                              Количество продаж:  49     Общая выручка:   47040 руб.     Доля в общей выручке:  0.4 %\n",
            "————————————————————————————————————————————————————————————————————————————————————————————————————————————————————————————————————————\n",
            "Ammoon Nano Looper                              Количество продаж:  14     Общая выручка:   43400 руб.     Доля в общей выручке:  0.3 %\n",
            "————————————————————————————————————————————————————————————————————————————————————————————————————————————————————————————————————————\n",
            "Mosky BP Booster                                Количество продаж:   9     Общая выручка:   23400 руб.     Доля в общей выручке:  0.2 %\n",
            "————————————————————————————————————————————————————————————————————————————————————————————————————————————————————————————————————————\n"
          ]
        }
      ],
      "source": [
        "data = None\n",
        "try:\n",
        "  file_path = 'input.csv'\n",
        "  data = parse_csv(file_path)\n",
        "  #Расчет общей выручки магазина\n",
        "  total_revenue = calculate_total_revenue(data)\n",
        "  print(f'\\nОбщая выручка магазина: {int(total_revenue)} руб.')\n",
        "\n",
        "  #Поиск товара, который был продан наибольшее количество раз\n",
        "  most_sold_product, most_sold_quantity = find_most_sold_product(data)\n",
        "  print(f'Товар, который был продан наибольшее количество раз: {most_sold_product} ({most_sold_quantity} шт.)')\n",
        "\n",
        "  #Поиск товара, который принес наибольшую выручку\n",
        "  highest_revenue_product, highest_revenue = find_highest_revenue_product(data)\n",
        "  print(f'Товар, который принес наибольшую выручку: {highest_revenue_product} ({int(highest_revenue)} руб.)')\n",
        "\n",
        "  #Составление отчета\n",
        "  report = generate_report(data)\n",
        "\n",
        "  # Сортировка Шелла для отчета по выручке \n",
        "  shell_sort(report, key=lambda x: x['Общая выручка'])\n",
        "\n",
        "\n",
        "  print('\\nОтчет по товарам:')\n",
        "  print(\"—\"*136)\n",
        "  for item in reversed(report): #reversed чтобы общая выручка показывалась по убыванию\n",
        "    print( '{:<47}'.format(item['Название товара']),\n",
        "          \"Количество продаж:\",\n",
        "          '{:>3}'.format(item['Количество продаж']),3*\" \",\n",
        "            f\"Общая выручка:\",\n",
        "            '{:>7}'.format(round(item['Общая выручка'])),\"руб.\",3*\" \",\n",
        "            \"Доля в общей выручке:\",\n",
        "            '{:>4}'.format(round(item['Доля в общей выручке (%)'],1)), \"%\")\n",
        "    print(\"—\"*136)\n",
        "except FileNotFoundError:\n",
        "  print('CSV-файл не найден!')\n",
        "\n"
      ]
    },
    {
      "cell_type": "markdown",
      "id": "14c19d12",
      "metadata": {},
      "source": [
        "# Вывод:"
      ]
    },
    {
      "cell_type": "markdown",
      "id": "3924aef8",
      "metadata": {},
      "source": [
        "Мы написали программу, которая считывает данные продаж магазина музыкальных инструментов и аксессуаров из CSV файла, рассчитали общую выручку магазина, нашли товар, который был продан наибольшее количество раз, товар, который принес наибольшую выручку, составили отчет, содержащий количество продаж товаров, их общую выручку и долю в общей выручке.\n"
      ]
    }
  ],
  "metadata": {
    "colab": {
      "provenance": []
    },
    "kernelspec": {
      "display_name": "Python 3 (ipykernel)",
      "language": "python",
      "name": "python3"
    },
    "language_info": {
      "codemirror_mode": {
        "name": "ipython",
        "version": 3
      },
      "file_extension": ".py",
      "mimetype": "text/x-python",
      "name": "python",
      "nbconvert_exporter": "python",
      "pygments_lexer": "ipython3",
      "version": "3.9.13"
    }
  },
  "nbformat": 4,
  "nbformat_minor": 5
}
